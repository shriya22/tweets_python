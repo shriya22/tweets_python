{
 "cells": [
  {
   "cell_type": "markdown",
   "metadata": {},
   "source": [
    "# homework 1 twitter sentiment analysis"
   ]
  },
  {
   "cell_type": "code",
   "execution_count": 1,
   "metadata": {},
   "outputs": [],
   "source": [
    "from IPython.core.interactiveshell import InteractiveShell\n",
    "InteractiveShell.ast_node_interactivity = \"all\""
   ]
  },
  {
   "cell_type": "code",
   "execution_count": 2,
   "metadata": {},
   "outputs": [],
   "source": [
    "file=open('Remind.txt',encoding=\"utf-8\")"
   ]
  },
  {
   "cell_type": "markdown",
   "metadata": {},
   "source": [
    " the positve and negative files are opened and the words are stored in the <b>pos</b> and <b>neg</b> sets respectively"
   ]
  },
  {
   "cell_type": "code",
   "execution_count": 3,
   "metadata": {},
   "outputs": [],
   "source": [
    "n=open('negative-words.txt','r').readlines()\n",
    "neg=set()\n",
    "#storing each word in the set \"neg\"\n",
    "for i in range(0,len(n)):\n",
    "    neg.add(n[i].strip())\n"
   ]
  },
  {
   "cell_type": "code",
   "execution_count": 4,
   "metadata": {},
   "outputs": [],
   "source": [
    "pos=set()\n",
    "a=open('positive-words.txt','r').readlines()\n",
    "for i in range(0,len(a)):\n",
    "    pos.add(a[i].rstrip())\n",
    "\n"
   ]
  },
  {
   "cell_type": "markdown",
   "metadata": {},
   "source": [
    "each line in the remind file is then stored in a list <b>all</b>"
   ]
  },
  {
   "cell_type": "code",
   "execution_count": 5,
   "metadata": {},
   "outputs": [
    {
     "name": "stdout",
     "output_type": "stream",
     "text": [
      "['Hey @verizon please  #ReverseTheFee on remind . This is a great tool for classroom teachers / coaches to send text to parents and students quickly . We use it a lot also to spreed god word . @magedkatkout\\n', 'RT @ because i keep seeing this tweet quoted by ppl telling you to set up shop in Africa, if you are seeing these tweets, i just want to remind you that Africa is not just Ethiopia, South Africa and Nigeria pls https://t.co/SM2iCmZ7PW\\n', 'RT @ Folks, the whole collusion story over three and a half years. All in 140 seconds. We watched it unfold. Remind yourself what we all saw. Watch/Retweet. https://t.co/VAnA0Y0Jzl\\n', \"RT @ Today is a GREAT day to remind everyone that Pompeo was the President of oilfield equipment maker, Sentry Intl., before becoming a Congressman.  Oh, &amp; that Sentry's partners were Sinopec. Oh, &amp; that Sentry &amp; Sinopec are connected to Putin's massive laundromat in offshoreleaks db. https://t.co/MXFsQW6sGn\\n\"]\n"
     ]
    }
   ],
   "source": [
    "all1 = file.readlines()\n",
    "print (all1[0:4])\n",
    "\n"
   ]
  },
  {
   "cell_type": "markdown",
   "metadata": {},
   "source": [
    "Next step is to extract each tweet(and removing special characters and converting everything to lowercase)\n",
    "\n"
   ]
  },
  {
   "cell_type": "markdown",
   "metadata": {},
   "source": [
    "Then we compare each word in the tweet with the words in the pos and neg set.\n"
   ]
  },
  {
   "cell_type": "markdown",
   "metadata": {},
   "source": [
    "If there is a match in pos then we increase the counter <b>po</b> to +1 else to -1 if neg.\n",
    "Then for each tweet we check if it is overall a postive/negative/neutral statement by checking the value of po (if po is positive then it's postive sentiment,similarly for neagtive and neutral)\n"
   ]
  },
  {
   "cell_type": "markdown",
   "metadata": {},
   "source": [
    "<b>countpos, countneg, countnuet</b> gives total number of positive,negative,neutral tweets in the file respectively."
   ]
  },
  {
   "cell_type": "code",
   "execution_count": 6,
   "metadata": {},
   "outputs": [
    {
     "name": "stdout",
     "output_type": "stream",
     "text": [
      "for all the tweets:\n",
      "total number of positve tweets are 1719\n",
      "total number of negative tweets are 1135\n",
      "total number of neutral tweets are  1846\n",
      "\n",
      "hence the sentiments are\n",
      "positive: 36.57 %\n",
      "negative: 24.15%\n",
      "neutral: 39.28%\n",
      "\n",
      "Checking whether postive or negative is the overall sentiment:\n",
      "overall the sentiment is positive 36.57 %\n",
      "The sentiment is weak as it is less than 50% of the tweets\n"
     ]
    }
   ],
   "source": [
    "def analyse():\n",
    "    tweets=[]\n",
    "    countpos=0\n",
    "    countneg=0\n",
    "    countnuet=0\n",
    "     \n",
    "    for i in range(0,len(all1)): \n",
    "        po=0\n",
    "        tweets.append(x.strip('@,./?#%&*!;:') for x in all1[i].lower().split())\n",
    "        for words in tweets[i]:\n",
    "                #print (words)\n",
    "                if words in pos:\n",
    "                    po+=1\n",
    "                    #print (\"positive words for \" +str(i+1)+\" tweet: \"+ words)\n",
    "                elif words in neg:\n",
    "                    po-=1\n",
    "                    #print (\"neg words for \" +str(i+1)+\" tweet:\"+ words)\n",
    "                       \n",
    "            \n",
    "        #print (\"tweet\" +str(i+1)+\" has total count \"+  str(po))\n",
    "        if po>0:\n",
    "            countpos+=1\n",
    "            #print (\"tweet\" +str(i+1)+\" has positive senitment \\n\")\n",
    "        elif po<0:\n",
    "            countneg+=1\n",
    "            #print (\"tweet\" +str(i+1)+\" has negative senitment \\n\")\n",
    "        else:\n",
    "            countnuet+=1\n",
    "            #print (\"tweet\" +str(i+1)+\" has neutral senitment \\n\")\n",
    "    \n",
    "           \n",
    "    print (\"for all the tweets:\\ntotal number of positve tweets are \" +str(countpos)+ \"\\ntotal number of negative tweets are \"  + str(countneg)+\"\\ntotal number of neutral tweets are  \"+str(countnuet))\n",
    "        \n",
    "    overallpos=(countpos/len(all1))*100\n",
    "    overallneg=(countneg/len(all1))*100\n",
    "    overallneutral=(countnuet/len(all1))*100\n",
    "\n",
    "    print (\"\\nhence the sentiments are\\npositive: %.2f \"%overallpos +\"%\"+\"\\nnegative: %.2f\" %overallneg+\"%\"+\"\\nneutral: %.2f\"%overallneutral+\"%\")\n",
    "   \n",
    "    #checking whether positive or negative is greater \n",
    "    final=overallneg if overallpos<overallneg else overallpos if overallpos>overallneg else 0\n",
    "    \n",
    "    print (\"\\nChecking whether postive or negative is the overall sentiment:\")\n",
    "    \n",
    "    while(final!=0):\n",
    "        print (\"overall the sentiment is positive %.2f \"%overallpos +\"%\") if overallpos>overallneg else print (\"overall the sentiment is negative %.2f\"%overallneg+\"%\")\n",
    "\n",
    "        print(\"The sentiment is weak as it is less than 50% of the tweets\") if final<50 else print(\"the sentiment is strong as it is more than or equal to 50% of the tweets\")\n",
    "        break\n",
    "    #this is execcuted only when the positve and negative statements are equally present \n",
    "    else:\n",
    "        print(\"both positve and negative sentiments are equally present,hence cannot come to a definite conclusion\")\n",
    "\n",
    "        \n",
    "analyse()\n",
    "\n"
   ]
  },
  {
   "cell_type": "markdown",
   "metadata": {},
   "source": [
    "# <b>For the overall sentiment:</b>\n"
   ]
  },
  {
   "cell_type": "markdown",
   "metadata": {},
   "source": [
    "After obtaining the total number of positive,negative and neutral tweets, the overall proportion of each is calculated .This is done by dividing the count with the total number of tweets and multiplying by 100 to give the percent.Then the overall sentiment is the one which has a largest percentile(only checking for positive and negative).After this we check whether it is a strong sentimemt by checking if it the senitment is for more than 50% of the tweets, if not then it is a weak sentiment(but if they are both have the same percent,then a definite conclusion cannot be obtained)"
   ]
  }
 ],
 "metadata": {
  "kernelspec": {
   "display_name": "Python 3",
   "language": "python",
   "name": "python3"
  },
  "language_info": {
   "codemirror_mode": {
    "name": "ipython",
    "version": 3
   },
   "file_extension": ".py",
   "mimetype": "text/x-python",
   "name": "python",
   "nbconvert_exporter": "python",
   "pygments_lexer": "ipython3",
   "version": "3.7.1"
  }
 },
 "nbformat": 4,
 "nbformat_minor": 2
}
